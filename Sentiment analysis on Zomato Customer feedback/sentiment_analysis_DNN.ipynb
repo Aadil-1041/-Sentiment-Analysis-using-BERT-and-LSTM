{
  "cells": [
    {
      "cell_type": "markdown",
      "metadata": {
        "id": "C3iplK7dncx8"
      },
      "source": [
        "### import libraries"
      ]
    },
    {
      "cell_type": "code",
      "execution_count": null,
      "metadata": {
        "id": "bnUrJi9Ing2U",
        "colab": {
          "base_uri": "https://localhost:8080/"
        },
        "outputId": "9e18c3ab-3fa3-4d58-e6fb-7087ed4a258a"
      },
      "outputs": [
        {
          "output_type": "stream",
          "name": "stdout",
          "text": [
            "Drive already mounted at /content/drive; to attempt to forcibly remount, call drive.mount(\"/content/drive\", force_remount=True).\n"
          ]
        }
      ],
      "source": [
        "from google.colab import drive\n",
        "drive.mount('/content/drive')"
      ]
    },
    {
      "cell_type": "code",
      "execution_count": null,
      "metadata": {
        "id": "PE-UhoPWncx_"
      },
      "outputs": [],
      "source": [
        "import numpy as np\n",
        "import pandas as pd"
      ]
    },
    {
      "cell_type": "markdown",
      "metadata": {
        "id": "VZ8cUEzpncyA"
      },
      "source": [
        "#### Read the Dataset"
      ]
    },
    {
      "cell_type": "code",
      "execution_count": null,
      "metadata": {
        "id": "LnK_12drncyA"
      },
      "outputs": [],
      "source": [
        "data = pd.read_csv('/content/drive/MyDrive/DA project/zomato.csv')"
      ]
    },
    {
      "cell_type": "code",
      "execution_count": null,
      "metadata": {
        "colab": {
          "base_uri": "https://localhost:8080/",
          "height": 652
        },
        "id": "bFmj7b46ncyB",
        "outputId": "e9e04a18-998d-4e32-cac2-38cdc6b8ab49"
      },
      "outputs": [
        {
          "output_type": "execute_result",
          "data": {
            "text/html": [
              "\n",
              "  <div id=\"df-5bf99646-1f9e-4f6b-8bf1-386bef4f8886\">\n",
              "    <div class=\"colab-df-container\">\n",
              "      <div>\n",
              "<style scoped>\n",
              "    .dataframe tbody tr th:only-of-type {\n",
              "        vertical-align: middle;\n",
              "    }\n",
              "\n",
              "    .dataframe tbody tr th {\n",
              "        vertical-align: top;\n",
              "    }\n",
              "\n",
              "    .dataframe thead th {\n",
              "        text-align: right;\n",
              "    }\n",
              "</style>\n",
              "<table border=\"1\" class=\"dataframe\">\n",
              "  <thead>\n",
              "    <tr style=\"text-align: right;\">\n",
              "      <th></th>\n",
              "      <th>url</th>\n",
              "      <th>address</th>\n",
              "      <th>name</th>\n",
              "      <th>online_order</th>\n",
              "      <th>book_table</th>\n",
              "      <th>rate</th>\n",
              "      <th>votes</th>\n",
              "      <th>phone</th>\n",
              "      <th>location</th>\n",
              "      <th>rest_type</th>\n",
              "      <th>dish_liked</th>\n",
              "      <th>cuisines</th>\n",
              "      <th>approx_cost(for two people)</th>\n",
              "      <th>reviews_list</th>\n",
              "      <th>menu_item</th>\n",
              "      <th>listed_in(type)</th>\n",
              "      <th>listed_in(city)</th>\n",
              "    </tr>\n",
              "  </thead>\n",
              "  <tbody>\n",
              "    <tr>\n",
              "      <th>0</th>\n",
              "      <td>https://www.zomato.com/bangalore/jalsa-banasha...</td>\n",
              "      <td>942, 21st Main Road, 2nd Stage, Banashankari, ...</td>\n",
              "      <td>Jalsa</td>\n",
              "      <td>Yes</td>\n",
              "      <td>Yes</td>\n",
              "      <td>4.1/5</td>\n",
              "      <td>775</td>\n",
              "      <td>080 42297555\\r\\n+91 9743772233</td>\n",
              "      <td>Banashankari</td>\n",
              "      <td>Casual Dining</td>\n",
              "      <td>Pasta, Lunch Buffet, Masala Papad, Paneer Laja...</td>\n",
              "      <td>North Indian, Mughlai, Chinese</td>\n",
              "      <td>800</td>\n",
              "      <td>[('Rated 4.0', 'RATED\\n  A beautiful place to ...</td>\n",
              "      <td>[]</td>\n",
              "      <td>Buffet</td>\n",
              "      <td>Banashankari</td>\n",
              "    </tr>\n",
              "    <tr>\n",
              "      <th>1</th>\n",
              "      <td>https://www.zomato.com/bangalore/spice-elephan...</td>\n",
              "      <td>2nd Floor, 80 Feet Road, Near Big Bazaar, 6th ...</td>\n",
              "      <td>Spice Elephant</td>\n",
              "      <td>Yes</td>\n",
              "      <td>No</td>\n",
              "      <td>4.1/5</td>\n",
              "      <td>787</td>\n",
              "      <td>080 41714161</td>\n",
              "      <td>Banashankari</td>\n",
              "      <td>Casual Dining</td>\n",
              "      <td>Momos, Lunch Buffet, Chocolate Nirvana, Thai G...</td>\n",
              "      <td>Chinese, North Indian, Thai</td>\n",
              "      <td>800</td>\n",
              "      <td>[('Rated 4.0', 'RATED\\n  Had been here for din...</td>\n",
              "      <td>[]</td>\n",
              "      <td>Buffet</td>\n",
              "      <td>Banashankari</td>\n",
              "    </tr>\n",
              "    <tr>\n",
              "      <th>2</th>\n",
              "      <td>https://www.zomato.com/SanchurroBangalore?cont...</td>\n",
              "      <td>1112, Next to KIMS Medical College, 17th Cross...</td>\n",
              "      <td>San Churro Cafe</td>\n",
              "      <td>Yes</td>\n",
              "      <td>No</td>\n",
              "      <td>3.8/5</td>\n",
              "      <td>918</td>\n",
              "      <td>+91 9663487993</td>\n",
              "      <td>Banashankari</td>\n",
              "      <td>Cafe, Casual Dining</td>\n",
              "      <td>Churros, Cannelloni, Minestrone Soup, Hot Choc...</td>\n",
              "      <td>Cafe, Mexican, Italian</td>\n",
              "      <td>800</td>\n",
              "      <td>[('Rated 3.0', \"RATED\\n  Ambience is not that ...</td>\n",
              "      <td>[]</td>\n",
              "      <td>Buffet</td>\n",
              "      <td>Banashankari</td>\n",
              "    </tr>\n",
              "    <tr>\n",
              "      <th>3</th>\n",
              "      <td>https://www.zomato.com/bangalore/addhuri-udupi...</td>\n",
              "      <td>1st Floor, Annakuteera, 3rd Stage, Banashankar...</td>\n",
              "      <td>Addhuri Udupi Bhojana</td>\n",
              "      <td>No</td>\n",
              "      <td>No</td>\n",
              "      <td>3.7/5</td>\n",
              "      <td>88</td>\n",
              "      <td>+91 9620009302</td>\n",
              "      <td>Banashankari</td>\n",
              "      <td>Quick Bites</td>\n",
              "      <td>Masala Dosa</td>\n",
              "      <td>South Indian, North Indian</td>\n",
              "      <td>300</td>\n",
              "      <td>[('Rated 4.0', \"RATED\\n  Great food and proper...</td>\n",
              "      <td>[]</td>\n",
              "      <td>Buffet</td>\n",
              "      <td>Banashankari</td>\n",
              "    </tr>\n",
              "    <tr>\n",
              "      <th>4</th>\n",
              "      <td>https://www.zomato.com/bangalore/grand-village...</td>\n",
              "      <td>10, 3rd Floor, Lakshmi Associates, Gandhi Baza...</td>\n",
              "      <td>Grand Village</td>\n",
              "      <td>No</td>\n",
              "      <td>No</td>\n",
              "      <td>3.8/5</td>\n",
              "      <td>166</td>\n",
              "      <td>+91 8026612447\\r\\n+91 9901210005</td>\n",
              "      <td>Basavanagudi</td>\n",
              "      <td>Casual Dining</td>\n",
              "      <td>Panipuri, Gol Gappe</td>\n",
              "      <td>North Indian, Rajasthani</td>\n",
              "      <td>600</td>\n",
              "      <td>[('Rated 4.0', 'RATED\\n  Very good restaurant ...</td>\n",
              "      <td>[]</td>\n",
              "      <td>Buffet</td>\n",
              "      <td>Banashankari</td>\n",
              "    </tr>\n",
              "  </tbody>\n",
              "</table>\n",
              "</div>\n",
              "      <button class=\"colab-df-convert\" onclick=\"convertToInteractive('df-5bf99646-1f9e-4f6b-8bf1-386bef4f8886')\"\n",
              "              title=\"Convert this dataframe to an interactive table.\"\n",
              "              style=\"display:none;\">\n",
              "        \n",
              "  <svg xmlns=\"http://www.w3.org/2000/svg\" height=\"24px\"viewBox=\"0 0 24 24\"\n",
              "       width=\"24px\">\n",
              "    <path d=\"M0 0h24v24H0V0z\" fill=\"none\"/>\n",
              "    <path d=\"M18.56 5.44l.94 2.06.94-2.06 2.06-.94-2.06-.94-.94-2.06-.94 2.06-2.06.94zm-11 1L8.5 8.5l.94-2.06 2.06-.94-2.06-.94L8.5 2.5l-.94 2.06-2.06.94zm10 10l.94 2.06.94-2.06 2.06-.94-2.06-.94-.94-2.06-.94 2.06-2.06.94z\"/><path d=\"M17.41 7.96l-1.37-1.37c-.4-.4-.92-.59-1.43-.59-.52 0-1.04.2-1.43.59L10.3 9.45l-7.72 7.72c-.78.78-.78 2.05 0 2.83L4 21.41c.39.39.9.59 1.41.59.51 0 1.02-.2 1.41-.59l7.78-7.78 2.81-2.81c.8-.78.8-2.07 0-2.86zM5.41 20L4 18.59l7.72-7.72 1.47 1.35L5.41 20z\"/>\n",
              "  </svg>\n",
              "      </button>\n",
              "      \n",
              "  <style>\n",
              "    .colab-df-container {\n",
              "      display:flex;\n",
              "      flex-wrap:wrap;\n",
              "      gap: 12px;\n",
              "    }\n",
              "\n",
              "    .colab-df-convert {\n",
              "      background-color: #E8F0FE;\n",
              "      border: none;\n",
              "      border-radius: 50%;\n",
              "      cursor: pointer;\n",
              "      display: none;\n",
              "      fill: #1967D2;\n",
              "      height: 32px;\n",
              "      padding: 0 0 0 0;\n",
              "      width: 32px;\n",
              "    }\n",
              "\n",
              "    .colab-df-convert:hover {\n",
              "      background-color: #E2EBFA;\n",
              "      box-shadow: 0px 1px 2px rgba(60, 64, 67, 0.3), 0px 1px 3px 1px rgba(60, 64, 67, 0.15);\n",
              "      fill: #174EA6;\n",
              "    }\n",
              "\n",
              "    [theme=dark] .colab-df-convert {\n",
              "      background-color: #3B4455;\n",
              "      fill: #D2E3FC;\n",
              "    }\n",
              "\n",
              "    [theme=dark] .colab-df-convert:hover {\n",
              "      background-color: #434B5C;\n",
              "      box-shadow: 0px 1px 3px 1px rgba(0, 0, 0, 0.15);\n",
              "      filter: drop-shadow(0px 1px 2px rgba(0, 0, 0, 0.3));\n",
              "      fill: #FFFFFF;\n",
              "    }\n",
              "  </style>\n",
              "\n",
              "      <script>\n",
              "        const buttonEl =\n",
              "          document.querySelector('#df-5bf99646-1f9e-4f6b-8bf1-386bef4f8886 button.colab-df-convert');\n",
              "        buttonEl.style.display =\n",
              "          google.colab.kernel.accessAllowed ? 'block' : 'none';\n",
              "\n",
              "        async function convertToInteractive(key) {\n",
              "          const element = document.querySelector('#df-5bf99646-1f9e-4f6b-8bf1-386bef4f8886');\n",
              "          const dataTable =\n",
              "            await google.colab.kernel.invokeFunction('convertToInteractive',\n",
              "                                                     [key], {});\n",
              "          if (!dataTable) return;\n",
              "\n",
              "          const docLinkHtml = 'Like what you see? Visit the ' +\n",
              "            '<a target=\"_blank\" href=https://colab.research.google.com/notebooks/data_table.ipynb>data table notebook</a>'\n",
              "            + ' to learn more about interactive tables.';\n",
              "          element.innerHTML = '';\n",
              "          dataTable['output_type'] = 'display_data';\n",
              "          await google.colab.output.renderOutput(dataTable, element);\n",
              "          const docLink = document.createElement('div');\n",
              "          docLink.innerHTML = docLinkHtml;\n",
              "          element.appendChild(docLink);\n",
              "        }\n",
              "      </script>\n",
              "    </div>\n",
              "  </div>\n",
              "  "
            ],
            "text/plain": [
              "                                                 url  ... listed_in(city)\n",
              "0  https://www.zomato.com/bangalore/jalsa-banasha...  ...    Banashankari\n",
              "1  https://www.zomato.com/bangalore/spice-elephan...  ...    Banashankari\n",
              "2  https://www.zomato.com/SanchurroBangalore?cont...  ...    Banashankari\n",
              "3  https://www.zomato.com/bangalore/addhuri-udupi...  ...    Banashankari\n",
              "4  https://www.zomato.com/bangalore/grand-village...  ...    Banashankari\n",
              "\n",
              "[5 rows x 17 columns]"
            ]
          },
          "metadata": {},
          "execution_count": 4
        }
      ],
      "source": [
        "data.head()"
      ]
    },
    {
      "cell_type": "code",
      "execution_count": null,
      "metadata": {
        "id": "9KihXjQuncyB"
      },
      "outputs": [],
      "source": [
        "data_review= data['reviews_list']"
      ]
    },
    {
      "cell_type": "code",
      "execution_count": null,
      "metadata": {
        "id": "e5Yi-Y4gncyC"
      },
      "outputs": [],
      "source": [
        "x=[]\n",
        "y=[]\n",
        "\n",
        "#here we tokenize the rating string and the review string\n",
        "#loop over all the rows\n",
        "\n",
        "for row_num in range(0,51717):\n",
        "    #split the review text at the \" (' \"\n",
        "    lst= data_review[row_num].split(\"('\")\n",
        "    for i in lst:\n",
        "        if len(i) > 5:\n",
        "            if i.find(\"',\") != -1:\n",
        "                single_rev= i.split(\"',\")\n",
        "                if len(single_rev[0]) >2:\n",
        "                    x.append(single_rev[0])\n",
        "                if len(single_rev[1]) >2:\n",
        "                    y.append(single_rev[1])"
      ]
    },
    {
      "cell_type": "markdown",
      "metadata": {
        "id": "65ZlI075ncyC"
      },
      "source": [
        "### Preprocessing -1"
      ]
    },
    {
      "cell_type": "code",
      "execution_count": null,
      "metadata": {
        "colab": {
          "base_uri": "https://localhost:8080/"
        },
        "id": "cZvaPhWgncyD",
        "outputId": "7b492efd-5c16-4154-d817-5f20cad687fa"
      },
      "outputs": [
        {
          "output_type": "stream",
          "name": "stdout",
          "text": [
            "[nltk_data] Downloading package stopwords to /root/nltk_data...\n",
            "[nltk_data]   Package stopwords is already up-to-date!\n"
          ]
        }
      ],
      "source": [
        "import nltk\n",
        "nltk.download(\"stopwords\")\n",
        "from nltk.corpus import stopwords\n",
        "from nltk.stem.porter import PorterStemmer\n",
        "ps= PorterStemmer()\n",
        "\n",
        "#to store the final rating\n",
        "rating_final =[]\n",
        "#to store the cleaned reivews\n",
        "review_final =[]"
      ]
    },
    {
      "cell_type": "code",
      "execution_count": null,
      "metadata": {
        "id": "aI6I5moXncyE"
      },
      "outputs": [],
      "source": [
        "#the rating string contains words and numbers\n",
        "#so we tokenize the numbers only from it and change into float\n",
        "#i.e. Rating:4.0 --> 4.0\n",
        "#also for rating below 2.5 store as POOR\n",
        "#for rating between 2.5 and 3.5 store as AVERAGE\n",
        "#for rating above 3.5 store as GOOD\n",
        "\n",
        "import re\n",
        "for loop in range(0,40000):\n",
        "    data_x= x[loop]\n",
        "    data_x= re.sub('[a-zA-Z]',\" \", data_x)\n",
        "    data_x= data_x.split()\n",
        "    data_x= ''.join(data_x)\n",
        "    data_x= float(data_x)\n",
        "    if data_x < 2.5:\n",
        "        rating_final.append(\"POOR\")\n",
        "    elif data_x>=2.5 and data_x<=3.5:\n",
        "        rating_final.append(\"AVERAGE\")\n",
        "    elif data_x>3.5:\n",
        "        rating_final.append(\"GOOD\")"
      ]
    },
    {
      "cell_type": "markdown",
      "metadata": {
        "id": "whBrZIL_ncyE"
      },
      "source": [
        "### Preprocessing-2"
      ]
    },
    {
      "cell_type": "code",
      "execution_count": null,
      "metadata": {
        "id": "aBdFrV1wncyE"
      },
      "outputs": [],
      "source": [
        "#label encode the ratings and OneHotEncode for the classification\n",
        "#as our x column has textual values we hav eto binarise these texual values \n",
        "#so we first convert textual data to integer encoding using label encoder\n",
        "\n",
        "from sklearn.preprocessing import LabelEncoder\n",
        "le= LabelEncoder()\n",
        "rating_final= le.fit_transform(rating_final)\n",
        "#now convert the rating column in to arrays and expand its dimensions to 2D array\n",
        "rating_final= np.array(rating_final)\n",
        "rating_final= np.expand_dims(rating_final, axis=1)\n",
        "#now convert the integer encoding in to binary values\n",
        "from sklearn.preprocessing import OneHotEncoder\n",
        "one= OneHotEncoder()\n",
        "rates= one.fit_transform(rating_final).toarray()"
      ]
    },
    {
      "cell_type": "code",
      "execution_count": null,
      "metadata": {
        "id": "1-i4l5w9ncyF"
      },
      "outputs": [],
      "source": [
        "#here the unnecessary stopwords from the reviews lists\n",
        "#stemming operations are also done here\n",
        "\n",
        "\n",
        "for loop in range(0,40000):\n",
        "    data_y= y[loop]\n",
        "    data_y= re.sub('[^a-zA-Z]', \" \",data_y)\n",
        "    data_y= data_y.split()\n",
        "    data_y= [ps.stem(word) for word in data_y if not word in set(stopwords.words('english'))]\n",
        "    data_y= ' '.join(data_y)\n",
        "    review_final.append(data_y)"
      ]
    },
    {
      "cell_type": "markdown",
      "metadata": {
        "id": "zyBu4DDzncyF"
      },
      "source": [
        "### Preprocessing-3"
      ]
    },
    {
      "cell_type": "code",
      "execution_count": null,
      "metadata": {
        "id": "IqiXW4e6ncyF"
      },
      "outputs": [],
      "source": [
        "#count vectorize the reviews according to the unique words\n",
        "\n",
        "from sklearn.feature_extraction.text import CountVectorizer\n",
        "cv= CountVectorizer(max_features = 20000)\n",
        "x_final= cv.fit_transform(review_final).toarray()\n",
        "\n",
        "#saving the vectorizer which would be used as dictionary\n",
        "import pickle\n",
        "pickle.dump(cv, open('cv.pkl','wb'))"
      ]
    },
    {
      "cell_type": "code",
      "execution_count": null,
      "metadata": {
        "id": "007rEwWFncyG"
      },
      "outputs": [],
      "source": [
        "#Splitting the data into test and train sets\n",
        "from sklearn.model_selection import train_test_split\n",
        "x_train,x_test,y_train,y_test = train_test_split(x_final,rates,test_size=0.2, random_state=0)"
      ]
    },
    {
      "cell_type": "code",
      "execution_count": null,
      "metadata": {
        "id": "kI5j_cXBncyG",
        "outputId": "6374cb99-4098-482e-ad77-1a372b1da000",
        "colab": {
          "base_uri": "https://localhost:8080/"
        }
      },
      "outputs": [
        {
          "output_type": "execute_result",
          "data": {
            "text/plain": [
              "array([[0, 0, 0, ..., 0, 0, 0],\n",
              "       [0, 0, 0, ..., 0, 0, 0],\n",
              "       [0, 0, 0, ..., 0, 0, 0],\n",
              "       ...,\n",
              "       [0, 0, 0, ..., 0, 0, 0],\n",
              "       [0, 0, 0, ..., 0, 0, 0],\n",
              "       [0, 0, 0, ..., 0, 0, 0]])"
            ]
          },
          "metadata": {},
          "execution_count": 13
        }
      ],
      "source": [
        "x_train"
      ]
    },
    {
      "cell_type": "code",
      "execution_count": null,
      "metadata": {
        "id": "os058z0jncyG",
        "outputId": "e7c390e7-33c6-45b5-c0f8-d893cafd2aa7",
        "colab": {
          "base_uri": "https://localhost:8080/"
        }
      },
      "outputs": [
        {
          "output_type": "execute_result",
          "data": {
            "text/plain": [
              "array([[1., 0., 0.],\n",
              "       [1., 0., 0.],\n",
              "       [0., 1., 0.],\n",
              "       ...,\n",
              "       [1., 0., 0.],\n",
              "       [1., 0., 0.],\n",
              "       [0., 0., 1.]])"
            ]
          },
          "metadata": {},
          "execution_count": 14
        }
      ],
      "source": [
        "y_train"
      ]
    },
    {
      "cell_type": "markdown",
      "metadata": {
        "id": "MuE2PgC8ncyG"
      },
      "source": [
        "![Screenshot%20%28541%29.png](attachment:Screenshot%20%28541%29.png)"
      ]
    },
    {
      "cell_type": "markdown",
      "metadata": {
        "id": "Oy7r9nyFncyH"
      },
      "source": [
        "#### label encoding:\n",
        " \n",
        "     AVERAGE:0   \n",
        " \n",
        "     GOOD:1   \n",
        " \n",
        "     POOR:2\n",
        "\n",
        "#### OneHotEncoding:\n",
        "\n",
        "    AVERAGE: 1 0 0 \n",
        "\n",
        "    GOOD:    0 1 0\n",
        "\n",
        "    POOR:    0 0 1"
      ]
    },
    {
      "cell_type": "code",
      "execution_count": null,
      "metadata": {
        "colab": {
          "base_uri": "https://localhost:8080/",
          "height": 391
        },
        "id": "u1WvPT__ncyH",
        "outputId": "5bea4d9b-cc39-4af7-a4d9-8b85b08b2edd"
      },
      "outputs": [
        {
          "output_type": "error",
          "ename": "ImportError",
          "evalue": "ignored",
          "traceback": [
            "\u001b[0;31m---------------------------------------------------------------------------\u001b[0m",
            "\u001b[0;31mImportError\u001b[0m                               Traceback (most recent call last)",
            "\u001b[0;32m<ipython-input-15-ed22f83983e2>\u001b[0m in \u001b[0;36m<module>\u001b[0;34m()\u001b[0m\n\u001b[1;32m      1\u001b[0m \u001b[0;32mfrom\u001b[0m \u001b[0mtensorflow\u001b[0m\u001b[0;34m.\u001b[0m\u001b[0mkeras\u001b[0m\u001b[0;34m.\u001b[0m\u001b[0mmodels\u001b[0m \u001b[0;32mimport\u001b[0m \u001b[0mSequential\u001b[0m\u001b[0;34m\u001b[0m\u001b[0;34m\u001b[0m\u001b[0m\n\u001b[0;32m----> 2\u001b[0;31m \u001b[0;32mfrom\u001b[0m \u001b[0mtensorflow\u001b[0m\u001b[0;34m.\u001b[0m\u001b[0mkeras\u001b[0m\u001b[0;34m.\u001b[0m\u001b[0mlayers\u001b[0m \u001b[0;32mimport\u001b[0m \u001b[0mDense\u001b[0m\u001b[0;34m,\u001b[0m \u001b[0mLSTM\u001b[0m\u001b[0;34m,\u001b[0m \u001b[0mDropout\u001b[0m\u001b[0;34m,\u001b[0m \u001b[0mGRU\u001b[0m\u001b[0;34m,\u001b[0m \u001b[0mBidirectional\u001b[0m\u001b[0;34m,\u001b[0m \u001b[0mEmbedding\u001b[0m\u001b[0;34m,\u001b[0m \u001b[0mSpatialDropout1D\u001b[0m\u001b[0;34m,\u001b[0m \u001b[0mCuDNNLSTM\u001b[0m\u001b[0;34m\u001b[0m\u001b[0;34m\u001b[0m\u001b[0m\n\u001b[0m\u001b[1;32m      3\u001b[0m \u001b[0;32mfrom\u001b[0m \u001b[0mtensorflow\u001b[0m\u001b[0;34m.\u001b[0m\u001b[0mkeras\u001b[0m\u001b[0;34m.\u001b[0m\u001b[0moptimizers\u001b[0m \u001b[0;32mimport\u001b[0m \u001b[0mSGD\u001b[0m\u001b[0;34m\u001b[0m\u001b[0;34m\u001b[0m\u001b[0m\n\u001b[1;32m      4\u001b[0m \u001b[0;31m#import math\u001b[0m\u001b[0;34m\u001b[0m\u001b[0;34m\u001b[0m\u001b[0;34m\u001b[0m\u001b[0m\n\u001b[1;32m      5\u001b[0m \u001b[0;32mfrom\u001b[0m \u001b[0msklearn\u001b[0m\u001b[0;34m.\u001b[0m\u001b[0mmetrics\u001b[0m \u001b[0;32mimport\u001b[0m \u001b[0mmean_squared_error\u001b[0m\u001b[0;34m\u001b[0m\u001b[0;34m\u001b[0m\u001b[0m\n",
            "\u001b[0;31mImportError\u001b[0m: cannot import name 'CuDNNLSTM' from 'tensorflow.keras.layers' (/usr/local/lib/python3.7/dist-packages/keras/api/_v2/keras/layers/__init__.py)",
            "",
            "\u001b[0;31m---------------------------------------------------------------------------\u001b[0;32m\nNOTE: If your import is failing due to a missing package, you can\nmanually install dependencies using either !pip or !apt.\n\nTo view examples of installing some common dependencies, click the\n\"Open Examples\" button below.\n\u001b[0;31m---------------------------------------------------------------------------\u001b[0m\n"
          ],
          "errorDetails": {
            "actions": [
              {
                "action": "open_url",
                "actionText": "Open Examples",
                "url": "/notebooks/snippets/importing_libraries.ipynb"
              }
            ]
          }
        }
      ],
      "source": [
        "from tensorflow.keras.models import Sequential\n",
        "from tensorflow.keras.layers import Dense, LSTM, Dropout, GRU, Bidirectional, Embedding, SpatialDropout1D\n",
        "from tensorflow.keras.optimizers import SGD\n",
        "#import math\n",
        "from sklearn.metrics import mean_squared_error"
      ]
    },
    {
      "cell_type": "markdown",
      "metadata": {
        "id": "xXmBwcQFncyH"
      },
      "source": [
        "# Model building 1 - DNN"
      ]
    },
    {
      "cell_type": "markdown",
      "metadata": {
        "id": "DY4O59bFncyI"
      },
      "source": [
        "#### The DNN model suffers from Vanishing Gradient Descent problem. So using LSTM model for the Sentiment analysis."
      ]
    },
    {
      "cell_type": "markdown",
      "metadata": {
        "id": "QTAiUkEUncyI"
      },
      "source": [
        "# Model building 2 - LSTM (Long Short Term Memory)"
      ]
    },
    {
      "cell_type": "code",
      "execution_count": null,
      "metadata": {
        "colab": {
          "base_uri": "https://localhost:8080/"
        },
        "id": "Lfbf4DiUncyI",
        "outputId": "6643d803-4273-4b68-817e-eac5b23d1613"
      },
      "outputs": [
        {
          "output_type": "stream",
          "name": "stdout",
          "text": [
            "WARNING:tensorflow:Layer lstm will not use cuDNN kernels since it doesn't meet the criteria. It will use a generic GPU kernel as fallback when running on GPU.\n",
            "Model: \"sequential\"\n",
            "_________________________________________________________________\n",
            " Layer (type)                Output Shape              Param #   \n",
            "=================================================================\n",
            " embedding (Embedding)       (None, 13354, 32)         96000     \n",
            "                                                                 \n",
            " lstm (LSTM)                 (None, 32)                8320      \n",
            "                                                                 \n",
            " dense (Dense)               (None, 3)                 99        \n",
            "                                                                 \n",
            "=================================================================\n",
            "Total params: 104,419\n",
            "Trainable params: 104,419\n",
            "Non-trainable params: 0\n",
            "_________________________________________________________________\n"
          ]
        }
      ],
      "source": [
        "#Model prep\n",
        "modelLSTM=Sequential()\n",
        "modelLSTM.add(Embedding(3000,32,input_length=x_train.shape[1]))\n",
        "modelLSTM.add(LSTM(32,dropout=0.33,recurrent_dropout=0.2))\n",
        "#modelLSTM.add(LSTM(16,dropout=0.1,recurrent_dropout=0.1))\n",
        "modelLSTM.add(Dense(3,activation='softmax'))\n",
        "modelLSTM.compile(loss='categorical_crossentropy',optimizer='adam',metrics=['accuracy'])\n",
        "modelLSTM.summary()\n"
      ]
    },
    {
      "cell_type": "code",
      "metadata": {
        "id": "8nmO8M4aCKwT",
        "outputId": "d25cc791-c082-4a03-e2f1-d7aef5d5f174",
        "colab": {
          "base_uri": "https://localhost:8080/"
        }
      },
      "source": [
        "import tensorflow as tf\n",
        "\n",
        "# We begin by defining the a empty stack. We'll use this for building our \n",
        "# network, later by layer.\n",
        "model2 = tf.keras.models.Sequential()\n",
        "\n",
        "# The Embedding Layer provides a spatial mapping (or Word Embedding) of all the \n",
        "# individual words in our training set. Words close to one another share context \n",
        "# and or meaning. This spatial mapping is learning during the training process.\n",
        "model2.add(\n",
        "    tf.keras.layers.Embedding(\n",
        "        input_dim = 3000, # The size of our vocabulary \n",
        "        output_dim = 32, # Dimensions to which each words shall be mapped\n",
        "        input_length = x_train.shape[1] # Length of input sequences\n",
        "    )\n",
        ")\n",
        "\n",
        "# Dropout layers fight overfitting and forces the model to learn multiple \n",
        "# representations of the same data by randomly disabling neurons in the \n",
        "# learning phase.\n",
        "model2.add(\n",
        "    tf.keras.layers.Dropout(\n",
        "        rate=0.25 # Randomly disable 25% of neurons\n",
        "    )\n",
        ")\n",
        "\n",
        "# We are using a fast version of LSTM whih is optimised for GPUs. This layer \n",
        "# looks at the sequence of words in the review, along with their word embeddings\n",
        "# and uses both of these to determine to sentiment of a given review.\n",
        "model2.add(\n",
        "    tf.keras.layers.LSTM(\n",
        "        units=32 # 32 LSTM units in this layer\n",
        "    )\n",
        ")\n",
        "\n",
        "# Add a second dropout layer with the same aim as the first.\n",
        "model2.add(\n",
        "    tf.keras.layers.Dropout(\n",
        "        rate=0.25 # Randomly disable 25% of neurons\n",
        "    )\n",
        ")\n",
        "\n",
        "# All LSTM units are connected to a single node in the dense layer. A sigmoid \n",
        "# activation function determines the output from this node - a value \n",
        "# between 0 and 1. Closer to 0 indicates a negative review. Closer to 1 \n",
        "# indicates a positive review.\n",
        "model2.add(\n",
        "    tf.keras.layers.Dense(\n",
        "        units=1, # Single unit\n",
        "        activation='sigmoid' # Sigmoid activation function (output from 0 to 1)\n",
        "    )\n",
        ")\n",
        "\n",
        "# Compile the model\n",
        "model2.compile(\n",
        "    loss=tf.keras.losses.binary_crossentropy, # loss function\n",
        "    optimizer=tf.keras.optimizers.Adam(), # optimiser function\n",
        "    metrics=['accuracy']) # reporting metric\n",
        "\n",
        "# Display a summary of the models structure\n",
        "model2.summary()"
      ],
      "execution_count": null,
      "outputs": [
        {
          "output_type": "stream",
          "name": "stdout",
          "text": [
            "Model: \"sequential_1\"\n",
            "_________________________________________________________________\n",
            " Layer (type)                Output Shape              Param #   \n",
            "=================================================================\n",
            " embedding_1 (Embedding)     (None, 13354, 32)         96000     \n",
            "                                                                 \n",
            " dropout_1 (Dropout)         (None, 13354, 32)         0         \n",
            "                                                                 \n",
            " lstm (LSTM)                 (None, 32)                8320      \n",
            "                                                                 \n",
            " dropout_2 (Dropout)         (None, 32)                0         \n",
            "                                                                 \n",
            " dense (Dense)               (None, 1)                 33        \n",
            "                                                                 \n",
            "=================================================================\n",
            "Total params: 104,353\n",
            "Trainable params: 104,353\n",
            "Non-trainable params: 0\n",
            "_________________________________________________________________\n"
          ]
        }
      ]
    },
    {
      "cell_type": "code",
      "execution_count": null,
      "metadata": {
        "id": "7g_KMgGLncyI"
      },
      "outputs": [],
      "source": [
        "history=model2.fit(x_train,y_train,verbose=2,batch_size=1600,epochs=5,validation_split=0.33)"
      ]
    },
    {
      "cell_type": "code",
      "execution_count": null,
      "metadata": {
        "id": "Lrwvbq1lncyI"
      },
      "outputs": [],
      "source": [
        ""
      ]
    },
    {
      "cell_type": "code",
      "execution_count": null,
      "metadata": {
        "id": "7G2o69LVncyI"
      },
      "outputs": [],
      "source": [
        "x_train.shape"
      ]
    },
    {
      "cell_type": "code",
      "execution_count": null,
      "metadata": {
        "id": "25G-By3FncyJ"
      },
      "outputs": [],
      "source": [
        ""
      ]
    },
    {
      "cell_type": "code",
      "execution_count": null,
      "metadata": {
        "id": "od5NN4_cncyH",
        "outputId": "90da2233-85dc-403c-c205-ae50898a6248"
      },
      "outputs": [
        {
          "name": "stdout",
          "output_type": "stream",
          "text": [
            "Epoch 1/50\n",
            "250/250 [==============================] - 235s 930ms/step - loss: 1.1646 - accuracy: 0.4717\n",
            "Epoch 2/50\n",
            "250/250 [==============================] - 238s 951ms/step - loss: 1.0510 - accuracy: 0.4801\n",
            "Epoch 3/50\n",
            "250/250 [==============================] - 217s 870ms/step - loss: 1.0510 - accuracy: 0.4821\n",
            "Epoch 4/50\n",
            "250/250 [==============================] - 216s 865ms/step - loss: 1.0546 - accuracy: 0.4773\n",
            "Epoch 5/50\n",
            "250/250 [==============================] - 228s 913ms/step - loss: 1.0529 - accuracy: 0.4794\n",
            "Epoch 6/50\n",
            "250/250 [==============================] - 214s 856ms/step - loss: 1.0512 - accuracy: 0.4850\n",
            "Epoch 7/50\n",
            "250/250 [==============================] - 210s 839ms/step - loss: 1.0489 - accuracy: 0.4854\n",
            "Epoch 8/50\n",
            "250/250 [==============================] - 209s 838ms/step - loss: 1.0462 - accuracy: 0.4873\n",
            "Epoch 9/50\n",
            "250/250 [==============================] - 213s 850ms/step - loss: 1.0495 - accuracy: 0.4839\n",
            "Epoch 10/50\n",
            "250/250 [==============================] - 211s 845ms/step - loss: 1.0438 - accuracy: 0.4887\n",
            "Epoch 11/50\n",
            "250/250 [==============================] - 210s 840ms/step - loss: 1.0428 - accuracy: 0.4921\n",
            "Epoch 12/50\n",
            "250/250 [==============================] - 211s 845ms/step - loss: 1.0420 - accuracy: 0.4900\n",
            "Epoch 13/50\n",
            "250/250 [==============================] - 212s 848ms/step - loss: 1.0428 - accuracy: 0.4921\n",
            "Epoch 14/50\n",
            "250/250 [==============================] - 210s 840ms/step - loss: 1.0418 - accuracy: 0.4915\n",
            "Epoch 15/50\n",
            "250/250 [==============================] - 243s 973ms/step - loss: 1.0410 - accuracy: 0.4921\n",
            "Epoch 16/50\n",
            "250/250 [==============================] - 211s 844ms/step - loss: 1.0404 - accuracy: 0.4907\n",
            "Epoch 17/50\n",
            "250/250 [==============================] - 214s 854ms/step - loss: 1.0393 - accuracy: 0.4921\n",
            "Epoch 18/50\n",
            "250/250 [==============================] - 212s 848ms/step - loss: 1.0379 - accuracy: 0.4921\n",
            "Epoch 19/50\n",
            "250/250 [==============================] - 212s 847ms/step - loss: 1.0375 - accuracy: 0.4921\n",
            "Epoch 20/50\n",
            "250/250 [==============================] - 211s 845ms/step - loss: 1.0374 - accuracy: 0.4921\n",
            "Epoch 21/50\n",
            "250/250 [==============================] - 213s 850ms/step - loss: 1.0372 - accuracy: 0.4921\n",
            "Epoch 22/50\n",
            "250/250 [==============================] - 212s 846ms/step - loss: 1.0373 - accuracy: 0.4921\n",
            "Epoch 23/50\n",
            "250/250 [==============================] - 211s 846ms/step - loss: 1.0370 - accuracy: 0.4921\n",
            "Epoch 24/50\n",
            "250/250 [==============================] - 212s 849ms/step - loss: 1.0369 - accuracy: 0.4921\n",
            "Epoch 25/50\n",
            "250/250 [==============================] - 213s 854ms/step - loss: 1.0370 - accuracy: 0.4921\n",
            "Epoch 26/50\n",
            "250/250 [==============================] - 213s 852ms/step - loss: 1.0367 - accuracy: 0.4921\n",
            "Epoch 27/50\n",
            "250/250 [==============================] - 212s 848ms/step - loss: 1.0367 - accuracy: 0.4921\n",
            "Epoch 28/50\n",
            "250/250 [==============================] - 212s 847ms/step - loss: 1.0370 - accuracy: 0.4921\n",
            "Epoch 29/50\n",
            "250/250 [==============================] - 211s 845ms/step - loss: 1.0368 - accuracy: 0.4921\n",
            "Epoch 30/50\n",
            "250/250 [==============================] - 213s 851ms/step - loss: 1.0366 - accuracy: 0.4921\n",
            "Epoch 31/50\n",
            "250/250 [==============================] - 214s 854ms/step - loss: 1.0367 - accuracy: 0.4921\n",
            "Epoch 32/50\n",
            "250/250 [==============================] - 212s 848ms/step - loss: 1.0366 - accuracy: 0.4921\n",
            "Epoch 33/50\n",
            "250/250 [==============================] - 211s 846ms/step - loss: 1.0368 - accuracy: 0.4921\n",
            "Epoch 34/50\n",
            "250/250 [==============================] - 213s 850ms/step - loss: 1.0367 - accuracy: 0.4921\n",
            "Epoch 35/50\n",
            "250/250 [==============================] - 212s 850ms/step - loss: 1.0368 - accuracy: 0.4921\n",
            "Epoch 36/50\n",
            "250/250 [==============================] - 211s 846ms/step - loss: 1.0367 - accuracy: 0.4921\n",
            "Epoch 37/50\n",
            "250/250 [==============================] - 211s 844ms/step - loss: 1.0370 - accuracy: 0.4921\n",
            "Epoch 38/50\n",
            "250/250 [==============================] - 212s 846ms/step - loss: 1.0368 - accuracy: 0.4921\n",
            "Epoch 39/50\n",
            "250/250 [==============================] - 213s 851ms/step - loss: 1.0365 - accuracy: 0.4921\n",
            "Epoch 40/50\n",
            "250/250 [==============================] - 212s 848ms/step - loss: 1.0368 - accuracy: 0.4921\n",
            "Epoch 41/50\n",
            "250/250 [==============================] - 211s 843ms/step - loss: 1.0368 - accuracy: 0.4921\n",
            "Epoch 42/50\n",
            "250/250 [==============================] - 221s 884ms/step - loss: 1.0368 - accuracy: 0.4921\n",
            "Epoch 43/50\n",
            "250/250 [==============================] - 224s 895ms/step - loss: 1.0368 - accuracy: 0.4921\n",
            "Epoch 44/50\n",
            "250/250 [==============================] - 221s 883ms/step - loss: 1.0367 - accuracy: 0.4921\n",
            "Epoch 45/50\n",
            "250/250 [==============================] - 214s 856ms/step - loss: 1.0367 - accuracy: 0.4921\n",
            "Epoch 46/50\n",
            "250/250 [==============================] - 212s 850ms/step - loss: 1.0367 - accuracy: 0.4921\n",
            "Epoch 47/50\n",
            "250/250 [==============================] - 213s 850ms/step - loss: 1.0364 - accuracy: 0.4921\n",
            "Epoch 48/50\n",
            "250/250 [==============================] - 215s 860ms/step - loss: 1.0366 - accuracy: 0.4921\n",
            "Epoch 49/50\n",
            "250/250 [==============================] - 225s 901ms/step - loss: 1.0367 - accuracy: 0.4921\n",
            "Epoch 50/50\n",
            "250/250 [==============================] - 222s 887ms/step - loss: 1.0366 - accuracy: 0.4921\n"
          ]
        },
        {
          "data": {
            "text/plain": [
              "<tensorflow.python.keras.callbacks.History at 0x19674ea5ac8>"
            ]
          },
          "execution_count": 16,
          "metadata": {},
          "output_type": "execute_result"
        }
      ],
      "source": [
        "modelDN = Sequential()\n",
        "modelDN.add(Dense(units = 13264, kernel_initializer  = 'random_uniform', activation= 'sigmoid'))\n",
        "modelDN.add(Dense(units = 2000, kernel_initializer  = 'random_uniform', activation= 'sigmoid'))\n",
        "modelDN.add(Dense(units = 2000, kernel_initializer  = 'random_uniform', activation= 'sigmoid'))\n",
        "modelDN.add(Dense(units = 2000, kernel_initializer  = 'random_uniform', activation= 'sigmoid'))\n",
        "modelDN.add(Dense(units = 3, kernel_initializer  = 'random_uniform', activation= 'softmax'))\n",
        "modelDN.compile(optimizer= 'adam', loss = 'categorical_crossentropy',metrics=['accuracy'])\n",
        "modelDN.fit(x_train,y_train,batch_size =128,epochs=50)"
      ]
    }
  ],
  "metadata": {
    "accelerator": "GPU",
    "colab": {
      "name": "sentiment analysis DNN.ipynb",
      "provenance": []
    },
    "kernelspec": {
      "display_name": "Python 3",
      "language": "python",
      "name": "python3"
    },
    "language_info": {
      "codemirror_mode": {
        "name": "ipython",
        "version": 3
      },
      "file_extension": ".py",
      "mimetype": "text/x-python",
      "name": "python",
      "nbconvert_exporter": "python",
      "pygments_lexer": "ipython3",
      "version": "3.6.13"
    }
  },
  "nbformat": 4,
  "nbformat_minor": 0
}